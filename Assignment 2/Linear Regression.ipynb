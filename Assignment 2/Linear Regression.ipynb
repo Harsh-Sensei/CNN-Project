{
 "cells": [
  {
   "cell_type": "markdown",
   "id": "charitable-candidate",
   "metadata": {},
   "source": [
    "This assignment is about fitting a Linear Regression Model for the data. To do this assignment you are expected to complete till Week 2 of the prescribed course.\n",
    "Make a folder named \"Assignment 2\", in the same repository that you submitted, and copy this notebook and the dataset to the directory. I won't be guiding you through to make commits, this time you have to decide your checkpoints to do the versioning."
   ]
  },
  {
   "cell_type": "markdown",
   "id": "collaborative-marble",
   "metadata": {},
   "source": [
    "The below cell has been left to import python modules."
   ]
  },
  {
   "cell_type": "code",
   "execution_count": 39,
   "id": "manufactured-ancient",
   "metadata": {},
   "outputs": [],
   "source": [
    "#import modules here\n",
    "from math import *\n",
    "import numpy as np\n",
    "import matplotlib.pyplot as plt\n",
    "from sklearn.linear_model import LinearRegression"
   ]
  },
  {
   "cell_type": "markdown",
   "id": "directed-teach",
   "metadata": {},
   "source": [
    "Let's get started, open the file and import the two columns (they are comma separted values, google how to read csv lines). The first column represents your y values and the second column represents your x values. Make numpy arrays for y and x. Chose your naming convention of arrays as y and x only. (If you don't know how to read a file in python, google for it)."
   ]
  },
  {
   "cell_type": "code",
   "execution_count": 6,
   "id": "conventional-alberta",
   "metadata": {},
   "outputs": [
    {
     "name": "stdout",
     "output_type": "stream",
     "text": [
      "[17.592    9.1302  13.662   11.854    6.8233  11.886    4.3483  12.\n",
      "  6.5987   3.8166   3.2522  15.505    3.1551   7.2258   0.71618  3.5129\n",
      "  5.3048   0.56077  3.6518   5.3893   3.1386  21.767    4.263    5.1875\n",
      "  3.0825  22.638   13.501    7.0467  14.692   24.147   -1.22     5.9966\n",
      " 12.134    1.8495   6.5426   4.5623   4.1164   3.3928  10.117    5.4974\n",
      "  0.55657  3.9115   5.3854   2.4406   6.7318   1.0463   5.1337   1.844\n",
      "  8.0043   1.0179   6.7504   1.8396   4.2885   4.9981   1.4233  -1.4211\n",
      "  2.4756   4.6042   3.9624   5.4141   5.1694  -0.74279 17.929   12.054\n",
      " 17.054    4.8852   5.7442   7.7754   1.0173  20.992    6.6799   4.0259\n",
      "  1.2784   3.3411  -2.6807   0.29678  3.8845   5.7014   6.7526   2.0576\n",
      "  0.47953  0.20421  0.67861  7.5435   5.3436   4.2415   6.7981   0.92695\n",
      "  0.152    2.8214   1.8451   4.2959   7.2029   1.9869   0.14454  9.0551\n",
      "  0.61705] \n",
      " AND\n",
      " [ 6.1101  5.5277  8.5186  7.0032  5.8598  8.3829  7.4764  8.5781  6.4862\n",
      "  5.0546  5.7107 14.164   5.734   8.4084  5.6407  5.3794  6.3654  5.1301\n",
      "  6.4296  7.0708  6.1891 20.27    5.4901  6.3261  5.5649 18.945  12.828\n",
      " 10.957  13.176  22.203   5.2524  6.5894  9.2482  5.8918  8.2111  7.9334\n",
      "  8.0959  5.6063 12.836   6.3534  5.4069  6.8825 11.708   5.7737  7.8247\n",
      "  7.0931  5.0702  5.8014 11.7     5.5416  7.5402  5.3077  7.4239  7.6031\n",
      "  6.3328  6.3589  6.2742  5.6397  9.3102  9.4536  8.8254  5.1793 21.279\n",
      " 14.908  18.959   7.2182  8.2951 10.236   5.4994 20.341  10.136   7.3345\n",
      "  6.0062  7.2259  5.0269  6.5479  7.5386  5.0365 10.274   5.1077  5.7292\n",
      "  5.1884  6.3557  9.7687  6.5159  8.5172  9.1802  6.002   5.5204  5.0594\n",
      "  5.7077  7.6366  5.8707  5.3054  8.2934 13.394   5.4369]\n"
     ]
    }
   ],
   "source": [
    "#get data\n",
    "x=np.array([])\n",
    "y=np.array([])\n",
    "\n",
    "file=open('data.txt','r')#opening file\n",
    "for line in file.readlines():\n",
    "    nums=line.split(',')#to create array of numericals separated by ','\n",
    "    #appending values to arrays\n",
    "    x=np.append(x,float(nums[1]))\n",
    "    y=np.append(y,float(nums[0]))\n",
    "\n",
    "file.close()\n",
    "\n",
    "print(x,'\\n',\"AND\\n\",y)\n",
    "    "
   ]
  },
  {
   "cell_type": "markdown",
   "id": "applicable-telling",
   "metadata": {},
   "source": [
    "The very first step to handle a dataset is to draw first-hand inferences as much as possible. Those inferences play a very vital role while actually desinging and deciding models. The first step to do so is to have plots and compute some statistics of the data. We will only do a plot, if you want you can do further analysis. Using matplotlib plot a scatterplot of the y values against the x values. (again google if you don't know how to do)"
   ]
  },
  {
   "cell_type": "code",
   "execution_count": 11,
   "id": "medium-upgrade",
   "metadata": {},
   "outputs": [
    {
     "data": {
      "image/png": "[encoded data removed]",
      "text/plain": [
       "<Figure size 432x288 with 1 Axes>"
      ]
     },
     "metadata": {
      "needs_background": "light"
     },
     "output_type": "display_data"
    }
   ],
   "source": [
    "#plot\n",
    "plt.scatter(x,y,label='data',color='r',marker='x')\n",
    "plt.xlabel('x_data')\n",
    "plt.ylabel('y_data')\n",
    "plt.title('Scatter Plot of data')\n",
    "\n",
    "plt.show()"
   ]
  },
  {
   "cell_type": "markdown",
   "id": "mineral-chance",
   "metadata": {},
   "source": [
    "From the plot it seems that a linear fit to the available data is a plausible model (other than the fact that you haven't gone through other models yet :) ), so we have now decided we will perform a linear regression for the data using gradient descent. \\\n",
    "Let's have some revision...\\\n",
    "We have seen a sample cost function( we will use the same, but cost functions are very interesting, do try to think of some alternate cost functions too which can be good for linear fits )$$ J(\\theta) = \\frac{1}{2m}\\Sigma_{i=1}^{m}(h_\\theta(x^{(i)}) - y^{(i)})^2$$\n",
    "where $$ h_{\\theta}(x) = \\theta^{T}x = \\theta_0 + \\theta_1x_1$$\n",
    "\n",
    "So as an implementation we will have a 1x2 vector theta( numpy will come handy ) and since we already have x vector and y vector, it's actually quite simple to implement $J(\\theta)$.\n",
    "\n",
    "Now recall the update step of $\\theta$,\n",
    "$$\\theta_j = \\theta_j - \\alpha\\frac{1}{m}\\Sigma_{i=1}^{m}(h_\\theta(x^{(i)}) - y^{(i)})x_{j}^{(i)}$$\n",
    "So after choosing a parameter $\\alpha$ we are good to go. Keep in mind that the update has to be done for all $\\theta_j$s, you can do the simultaneous vectorized updates using numpy arrays.\n",
    "\n",
    "Ok enough theory, lets implement a function. \\\n",
    "Implement function **gradientdescent(y, x, theta, alpha)** that returns a list of size 2 - [updatedtheta, currentcost] . Note - The current cost is the cost calculated with the updated $\\theta$."
   ]
  },
  {
   "cell_type": "code",
   "execution_count": 12,
   "id": "increasing-travel",
   "metadata": {},
   "outputs": [],
   "source": [
    "def gradientdescent(y, x, theta, alpha):\n",
    "    sigma_0=0 #initialising variables to find sigma term of the formula\n",
    "    sigma_1=0\n",
    "    m=len(x)\n",
    "    for i in range(len(x)):\n",
    "        sigma_0+=(theta[0]+theta[1]*x[i]-y[i])\n",
    "        sigma_1+=(theta[0]+theta[1]*x[i]-y[i])*x[i]\n",
    "        \n",
    "    theta[0],theta[1]=theta[0]-alpha*sigma_0/m,theta[1]-alpha*sigma_1/m# simultaneous updatation\n",
    "    \n",
    "    cost=0\n",
    "    for i in range(len(x)):# lop for finding cost for particular theta values\n",
    "        cost+=(theta[0]+theta[1]*x[i]-y[i])**2\n",
    "    cost=cost/(2*m)\n",
    "    \n",
    "    return theta,cost"
   ]
  },
  {
   "cell_type": "markdown",
   "id": "incoming-needle",
   "metadata": {},
   "source": [
    "Now it's time to call the function. Run for 1500 iterations (you can tweak it yourself too). Initialise your theta vector to [0,0] or you can even do randomly( will it matter? ). Take alpha to be 0.01( don't worry about tuning, you will know about it later ). Now run the loop and keep on updating theta and maintain an array where you keep on adding the cost values returned at each iteration. Store the final value of theta."
   ]
  },
  {
   "cell_type": "code",
   "execution_count": 31,
   "id": "particular-submission",
   "metadata": {},
   "outputs": [
    {
     "name": "stdout",
     "output_type": "stream",
     "text": [
      "theta= [4.719519081906591, 0.5888354137873362] \n",
      " cost [11.36034739  7.65982708  7.15825515 ...  2.20818996  2.20818992\n",
      "  2.20818988]\n"
     ]
    }
   ],
   "source": [
    "#perform iterations using the above function\n",
    "def iteration(y,x,n,alpha):# function that would perform n iterations of gradientdescent function \n",
    "    theta=[0,0]\n",
    "    cost_arr=np.array([])\n",
    "    for i in range(n):\n",
    "        theta,temp=gradientdescent(y,x,theta,alpha)\n",
    "        cost_arr=np.append(cost_arr,temp)\n",
    "    return theta,cost_arr\n",
    "\n",
    "theta,cost=iteration(y,x,1500,0.01)\n",
    "print(\"theta=\",theta,'\\n',\"cost\",cost)"
   ]
  },
  {
   "cell_type": "markdown",
   "id": "empirical-aaron",
   "metadata": {},
   "source": [
    "Now it's time to analyse again. Using matplotlib, plot y vs x and on the same plot draw the line $y = \\theta_0 + \\theta_1x $ using the final theta values obtained. Also plot the curve of the cost array against the no. of the iterations. If you want you can further change alpha and no. of iterations to check how they affect the regression."
   ]
  },
  {
   "cell_type": "code",
   "execution_count": 38,
   "id": "wicked-shepherd",
   "metadata": {},
   "outputs": [
    {
     "data": {
      "image/png": "[encoded data removed]",
      "text/plain": [
       "<Figure size 432x288 with 1 Axes>"
      ]
     },
     "metadata": {
      "needs_background": "light"
     },
     "output_type": "display_data"
    },
    {
     "data": {
      "image/png": "[encoded data removed]",
      "text/plain": [
       "<Figure size 432x288 with 1 Axes>"
      ]
     },
     "metadata": {
      "needs_background": "light"
     },
     "output_type": "display_data"
    }
   ],
   "source": [
    "#plot line and data together\n",
    "def h(theta,x):\n",
    "    return theta[0]+theta[1]*x\n",
    "\n",
    "\n",
    "plt.subplot(211)#subplot for regression line\n",
    "x_part=np.arange(-5,25,0.1)\n",
    "plt.scatter(x,y,label='data',color='r',marker='x')\n",
    "plt.plot(x_part,h(theta,x_part))\n",
    "plt.xlabel('x_data')\n",
    "plt.ylabel('y_data')\n",
    "plt.xlim([-3,25])\n",
    "plt.ylim([-10,30])\n",
    "plt.title('Scatter plot of data with regression line')\n",
    "plt.show()\n",
    "\n",
    "plt.subplot(212) #subplot for cost\n",
    "x_part=np.arange(0,1500,1)\n",
    "plt.plot(x_part,cost)\n",
    "plt.xlabel(\"No. of iterations\")\n",
    "plt.ylabel(\"Cost\")\n",
    "plt.title(\"Cost vs Iterations\")\n",
    "plt.show()"
   ]
  },
  {
   "cell_type": "markdown",
   "id": "electronic-japanese",
   "metadata": {},
   "source": [
    "You can see you have obtained a linear fit to the data. Welcome to Machine Learning.\n",
    "With the help of the trained theta we can estimate the values for x's for which y's have not been measured. The iteration you did to update theta is called the training. And the weights( in this case theta ) obtained after training, can be saved for use in applications, and definitely it's not as easy as this everytime. "
   ]
  },
  {
   "cell_type": "markdown",
   "id": "sized-nursery",
   "metadata": {},
   "source": [
    "Let's get going. You implemented linear regression from scratch, let's now look at a fascinating python library - scikit-learn (imported as sklearn). Find installation procedure and official documentation here- https://scikit-learn.org/stable/ . Now perform a linear regression directly using scikit-learn and plot the line(using slope and intercept obtained in the model). Here you don't even have to worry about chosing hyperparameter alpha. Do check out other features of the library too. Hint -https://realpython.com/linear-regression-in-python/#simple-linear-regression-with-scikit-learn"
   ]
  },
  {
   "cell_type": "code",
   "execution_count": 41,
   "id": "amateur-rocket",
   "metadata": {},
   "outputs": [
    {
     "data": {
      "image/png": "[encoded data removed]",
      "text/plain": [
       "<Figure size 432x288 with 1 Axes>"
      ]
     },
     "metadata": {
      "needs_background": "light"
     },
     "output_type": "display_data"
    }
   ],
   "source": [
    "#implement linear regression using sklearn\n",
    "x_colmn=x.reshape((-1,1))\n",
    "model=LinearRegression()\n",
    "model.fit(x_colmn,y)\n",
    "sc_theta_0=model.intercept_\n",
    "sc_theta_1=model.coef_\n",
    "\n",
    "def sc_h(x):\n",
    "    return sc_theta_0+sc_theta_1*x\n",
    "\n",
    "x_part=np.arange(-5,25,1)\n",
    "plt.scatter(x,y,label='data',color='r',marker='x')\n",
    "plt.plot(x_part,sc_h(x_part))\n",
    "plt.xlabel('x_data')\n",
    "plt.ylabel('y_data')\n",
    "plt.xlim([-3,25])\n",
    "plt.ylim([-10,30])\n",
    "plt.title('Scatter plot of data with regression line(scikit)')\n",
    "plt.show()"
   ]
  },
  {
   "cell_type": "markdown",
   "id": "pacific-extraction",
   "metadata": {},
   "source": [
    "As you proceed through the course, do check-out their equivalent models in scikit-learn."
   ]
  }
 ],
 "metadata": {
  "kernelspec": {
   "display_name": "Python 3",
   "language": "python",
   "name": "python3"
  },
  "language_info": {
   "codemirror_mode": {
    "name": "ipython",
    "version": 3
   },
   "file_extension": ".py",
   "mimetype": "text/x-python",
   "name": "python",
   "nbconvert_exporter": "python",
   "pygments_lexer": "ipython3",
   "version": "3.9.0"
  }
 },
 "nbformat": 4,
 "nbformat_minor": 5
}
