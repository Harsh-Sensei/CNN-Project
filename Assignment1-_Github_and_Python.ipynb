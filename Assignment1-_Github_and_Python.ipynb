{
 "cells": [
  {
   "cell_type": "markdown",
   "id": "miniature-capability",
   "metadata": {},
   "source": [
    "I hope by now, you have installed Python and Jupyter Notebook and now know some basic shorcuts to work with it, if not look at the documentation-https://jupyter-notebook.readthedocs.io/en/stable/. \n",
    "\n",
    "We will next look at version controlling and some hands on tasks on python. For version controlling we will use a free open-source version control software Git. "
   ]
  },
  {
   "cell_type": "markdown",
   "id": "controversial-cinema",
   "metadata": {},
   "source": [
    "To install git follow https://git-scm.com/book/en/v2/Getting-Started-Installing-Git. After that create an account on Github which is a version control platform that uses git."
   ]
  },
  {
   "cell_type": "markdown",
   "id": "subjective-integrity",
   "metadata": {},
   "source": [
    "After you are done, fire your terminal and setup git on your local system. \n",
    "```\n",
    "git config --global user.name \"John Doe\"\n",
    "git config --global user.email johndoe@example.com\n",
    "```\n",
    "\n"
   ]
  },
  {
   "cell_type": "markdown",
   "id": "technological-technical",
   "metadata": {},
   "source": [
    "Now go to Github and create a repository. Get that repository to your local system. Hint- search ```git clone``` and learn about it. After creating a repository and cloning it into your local system, we will commit and push this file into the repository. So move this notebook to the cloned repo and then search how to commit and push into github repository. \n",
    "\n",
    "```Hint : git add, git status, git commit, git push will be helpful```\n"
   ]
  },
  {
   "cell_type": "markdown",
   "id": "statutory-synthesis",
   "metadata": {},
   "source": [
    "Let's get started. So this assignment is a basic assignment on Python3.0 and some basic libraries. Import all the required libraries in the cell below this."
   ]
  },
  {
   "cell_type": "code",
   "execution_count": 3,
   "id": "minute-young",
   "metadata": {},
   "outputs": [],
   "source": [
    "from numpy import *\n",
    "import datetime\n",
    "import random\n",
    "import cv2 as cv\n",
    "import matplotlib.pyplot as plt"
   ]
  },
  {
   "cell_type": "markdown",
   "id": "informal-tradition",
   "metadata": {},
   "source": [
    "Your first task is very simple. Create a string to store your name and then append your favorite number to it. If you don't know how to get started with python basic commands, search for w3school python tutorial and have a look at them."
   ]
  },
  {
   "cell_type": "code",
   "execution_count": 4,
   "id": "frank-mouth",
   "metadata": {},
   "outputs": [
    {
     "name": "stdout",
     "output_type": "stream",
     "text": [
      "Harsh73\n"
     ]
    }
   ],
   "source": [
    "sample_string=\"200050049\"\n",
    "sample_string=sample_string+'_73'\n",
    "print(sample_string)"
   ]
  },
  {
   "cell_type": "markdown",
   "id": "analyzed-rescue",
   "metadata": {},
   "source": [
    "Implement a python function Mult(X,Y) that takes input 2 matrices X and Y and calculates their product (Use brute force looping method)."
   ]
  },
  {
   "cell_type": "code",
   "execution_count": 5,
   "id": "romance-malta",
   "metadata": {},
   "outputs": [],
   "source": [
    "def Mult(X,Y):\n",
    "    if(len(X[0])!=len(Y)):\n",
    "        return false\n",
    "    else:\n",
    "        a=array([[0.0]*len(X)]*len(Y[0]))\n",
    "        for i in range(0,len(X)):\n",
    "            for j in range(0,len(Y[0])):\n",
    "                for k in range(0,len(X[0])):\n",
    "                    a[i][j]+=X[i][k]*Y[k][j]\n",
    "        return a"
   ]
  },
  {
   "cell_type": "markdown",
   "id": "encouraging-curtis",
   "metadata": {},
   "source": [
    "Create a square matrix of size 100X100 with random values from 0 to 1 using numpy(you have to import numpy at this stage) and multiply it with itself with the help of Mult(X,Y) function. Use time module to measure how long the multiplication takes. If you are stuck and don't know how to use and install new library/module Google about it."
   ]
  },
  {
   "cell_type": "code",
   "execution_count": 6,
   "id": "higher-baseball",
   "metadata": {},
   "outputs": [
    {
     "name": "stdout",
     "output_type": "stream",
     "text": [
      "0.424865\n"
     ]
    }
   ],
   "source": [
    "\n",
    "A=[]\n",
    "for i in range(100):\n",
    "    tmp_lst=[]\n",
    "    for j in range(100):\n",
    "        tmp_lst.append(random.random())\n",
    "    A.append(tmp_lst)\n",
    "\n",
    "start_time=datetime.datetime.now()\n",
    "\n",
    "R=Mult(A,A)\n",
    "print((datetime.datetime.now()-start_time).total_seconds())\n",
    "\n"
   ]
  },
  {
   "cell_type": "markdown",
   "id": "controversial-henry",
   "metadata": {},
   "source": [
    "Now search how to multiply two numpy arrays using a numpy utility function. dot() will be helpful. Similary measure the time that numpy takes to make this multiplication and compare it with above. "
   ]
  },
  {
   "cell_type": "code",
   "execution_count": 12,
   "id": "sporting-purple",
   "metadata": {},
   "outputs": [
    {
     "name": "stdout",
     "output_type": "stream",
     "text": [
      "0.000996\n"
     ]
    }
   ],
   "source": [
    "start_time=datetime.datetime.now()\n",
    "A_matrix=matrix(A)\n",
    "R=A_matrix*A_matrix\n",
    "print((datetime.datetime.now()-start_time).total_seconds())"
   ]
  },
  {
   "cell_type": "markdown",
   "id": "ranging-department",
   "metadata": {},
   "source": [
    "It's now time to save and make a commit, similar to above and push the current state to github. Again same set of commands.\n",
    "\n",
    "Now you want to use your roll number instead of your name in the very first task. Go ahead and do it and make a commit, don't push it this time. Now you think that your identity should not be limited to a number, so you want to again revert back, but you want to do so without changing the code. Git has your back here. Google how to rever a commit and go back to your initial state. Hint- https://opensource.com/article/18/6/git-reset-revert-rebase-commands\n"
   ]
  },
  {
   "cell_type": "markdown",
   "id": "outer-alabama",
   "metadata": {},
   "source": [
    "Let's march ahead with python. We will use import an image(you can use any image, get it to your directory and start working). Google how to import an image in python(Search about OpenCV/PIL library). Convert the image into grayscale and show the image.(to show you can use cv2 and also you can use matplotlib, Google both the methods)"
   ]
  },
  {
   "cell_type": "code",
   "execution_count": 13,
   "id": "noble-scout",
   "metadata": {},
   "outputs": [
    {
     "name": "stdout",
     "output_type": "stream",
     "text": [
      "(1080, 1920, 3)\n"
     ]
    }
   ],
   "source": [
    "sample_img=cv.imread(r'C:\\Users\\htg_sensei\\OneDrive\\Pictures\\Screenshots\\sage.png',1)\n",
    "print(sample_img.shape)\n",
    "cv.imshow('Original',sample_img)\n",
    "k=cv.waitKey(0)\n",
    "cv.destroyAllWindows()"
   ]
  },
  {
   "cell_type": "markdown",
   "id": "supported-motivation",
   "metadata": {},
   "source": [
    "Now we will see git branching in action. So basically let's say you and your friend are working on the same project. One utility git provides that you both can independently work without affecting each other. To do so we create branches. So now create a new branch with branchname as your name and checkout to that branch. Hint - ```git branch``` (I am once again asking you to Google xD) Search about other options for git branch. Now whatever you will implement will be done in your branch and won't affect the entire application."
   ]
  },
  {
   "cell_type": "markdown",
   "id": "monthly-window",
   "metadata": {},
   "source": [
    "So let's do something in your branch. Now crop the image into a new image, to get a new image which is 1/4th the size of the original image.(keep only the topleft portion). Apply a gaussian blur on the cropped image and again print the image to see the effects.\n"
   ]
  },
  {
   "cell_type": "code",
   "execution_count": 14,
   "id": "alone-frederick",
   "metadata": {},
   "outputs": [],
   "source": [
    "crop_img=sample_img[0:1080//4,0:1920//4]\n",
    "cv.imshow('Cropped Image',crop_img)\n",
    "\n",
    "gblur_img=cv.GaussianBlur(crop_img,(3,3),0)\n",
    "cv.imshow('Gaussian blur',gblur_img)\n",
    "\n",
    "k=cv.waitKey(0)\n",
    "cv.destroyAllWindows()"
   ]
  },
  {
   "cell_type": "markdown",
   "id": "sixth-television",
   "metadata": {},
   "source": [
    "Now calculate the mean and median pixel values of the cropped image. Numpy will come in handy. Now we will do histogramming of the pixels. Search about calcHist function from cv2 library to build the histogram. Now plot the histogram using matplotlib library (don't forget to import it xP)"
   ]
  },
  {
   "cell_type": "code",
   "execution_count": 15,
   "id": "heavy-bulgaria",
   "metadata": {},
   "outputs": [
    {
     "name": "stdout",
     "output_type": "stream",
     "text": [
      "225.0\n",
      "228.5255324074074\n"
     ]
    },
    {
     "data": {
      "image/png": "[encoded data removed]",
      "text/plain": [
       "<Figure size 432x288 with 2 Axes>"
      ]
     },
     "metadata": {
      "needs_background": "light"
     },
     "output_type": "display_data"
    }
   ],
   "source": [
    "print(median(crop_img[0:,0:,:1]))#median of blue value of all pixels\n",
    "print(mean(crop_img[0:,0:,:1]))#mean of blue value of all pixels\n",
    "\n",
    "gray_crop_img=cv.cvtColor(crop_img,cv.COLOR_BGR2GRAY)\n",
    "histeq_img=cv.equalizeHist(gray_crop_img)\n",
    "res=hstack((gray_crop_img,histeq_img))\n",
    "cv.imshow('Histogram equalization',res)\n",
    "\n",
    "\n",
    "plt.subplot(221)\n",
    "plt.hist(gray_crop_img.flatten(),256,ec='r')\n",
    "plt.title('Before equalization')\n",
    "plt.xlabel('Intensity')\n",
    "plt.ylabel('Frequency')\n",
    "\n",
    "plt.subplot(222)\n",
    "plt.hist(histeq_img.flatten(),256,ec='r')\n",
    "plt.title('After equalization')\n",
    "plt.xlabel('Intensity')\n",
    "plt.ylabel('Frequency')\n",
    "\n",
    "plt.show()\n",
    "\n",
    "k=cv.waitKey(0)\n",
    "cv.destroyAllWindows()\n"
   ]
  },
  {
   "cell_type": "markdown",
   "id": "danish-swift",
   "metadata": {},
   "source": [
    "So now you have completed working on your cropped Image. That brings you back to commit and push. So here you have to push from your branch only, because you have committed on that branch. Google how to do that. "
   ]
  },
  {
   "cell_type": "markdown",
   "id": "attached-batch",
   "metadata": {},
   "source": [
    "Impressed with your work, you finally decided that your work on your branch should be there on the main project(which is the main branch). So you want to merge your branch to main branch. Google how to do that. ```Hint - git merge```. Here do find out about merge conflicts(beleive me you don't want them). Again a merge command is itself a commit, so you have to again push it to github. Now finally we are in the main branch. You can use another utility command ```git log``` to see your entire commit history."
   ]
  },
  {
   "cell_type": "markdown",
   "id": "allied-asthma",
   "metadata": {},
   "source": [
    "Let's now do some so called \"cool\" stuff with the image to realise the chadness of python libraries. In the original image(not the cropped one) we will do edge detection(we will use canny edge detection method which is a common method). Surprisingly openCV handles it very easily. To know how - https://docs.opencv.org/master/da/d22/tutorial_py_canny.html ."
   ]
  },
  {
   "cell_type": "code",
   "execution_count": 16,
   "id": "intellectual-patio",
   "metadata": {},
   "outputs": [],
   "source": [
    "gray_sample_img=cv.cvtColor(sample_img,cv.COLOR_BGR2GRAY)\n",
    "edge_img=cv.Canny(gray_sample_img,70,200)\n",
    "cv.imshow('Edge Detection',edge_img)\n",
    "k=cv.waitKey(0)\n",
    "cv.destroyAllWindows()"
   ]
  },
  {
   "cell_type": "markdown",
   "id": "lesser-somewhere",
   "metadata": {},
   "source": [
    "It's done ? Not yet. This exercise was just to get you familiar with python libraries and give an introduction to python. There are literally infite number of utility libraries and functions that have been built for python users. You can even publish your own library for the open-source community(how? - https://realpython.com/pypi-publish-python-package/). But one flaw of python is that it is still quite slow, Julia is an upcoming similar nascent language which performs better with this regard, do Google about it)"
   ]
  },
  {
   "cell_type": "markdown",
   "id": "weighted-omega",
   "metadata": {},
   "source": [
    "NOTE - IF YOU HAVE ANY DOUBTS REGARDING ASSIGNMENTS/COURSES, FEEL FREE TO ASK/HELP YOUR COMENTEES (preferably) AND MENTORS. WE WOULD LOVE TO WORK IN A COLLABORATIVE WAY."
   ]
  },
  {
   "cell_type": "code",
   "execution_count": null,
   "id": "lovely-sierra",
   "metadata": {},
   "outputs": [],
   "source": []
  }
 ],
 "metadata": {
  "kernelspec": {
   "display_name": "Python 3",
   "language": "python",
   "name": "python3"
  },
  "language_info": {
   "codemirror_mode": {
    "name": "ipython",
    "version": 3
   },
   "file_extension": ".py",
   "mimetype": "text/x-python",
   "name": "python",
   "nbconvert_exporter": "python",
   "pygments_lexer": "ipython3",
   "version": "3.9.0"
  }
 },
 "nbformat": 4,
 "nbformat_minor": 5
}
