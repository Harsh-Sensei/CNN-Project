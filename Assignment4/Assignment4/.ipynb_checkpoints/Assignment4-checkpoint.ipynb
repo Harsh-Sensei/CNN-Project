{
 "cells": [
  {
   "cell_type": "markdown",
   "id": "enormous-digit",
   "metadata": {},
   "source": [
    "# Assignment 4 : Neural Networks"
   ]
  },
  {
   "cell_type": "markdown",
   "id": "fossil-examination",
   "metadata": {},
   "source": [
    "In this assignment, you will design an artificial neural network for a binary classification task. We will use Keras for implementing the neural network in this assignment. You can also use numpy, pandas and/or scikit-learn wherever you find them useful. You'll also need matplotlib"
   ]
  },
  {
   "cell_type": "markdown",
   "id": "promotional-gallery",
   "metadata": {},
   "source": [
    "#### Import the required libraries here"
   ]
  },
  {
   "cell_type": "code",
   "execution_count": 93,
   "id": "cathedral-liberty",
   "metadata": {},
   "outputs": [],
   "source": [
    "import matplotlib.pyplot as plt\n",
    "import keras\n",
    "import random\n",
    "import pandas as pd\n",
    "import numpy as np\n",
    "import sklearn \n",
    "from math import *\n",
    "import os\n",
    "os.environ['TF_CPP_MIN_LOG_LEVEL'] = '2'"
   ]
  },
  {
   "cell_type": "markdown",
   "id": "august-conditions",
   "metadata": {},
   "source": [
    "Load the dataset from the file named 'data.csv' . You'll find 7200 datapoints in this file. The first 6 columns are the features (X), while the last column has a binary label (Y) for each feature vector. After loading the dataset, divide it into a training set and a test set (cross-validation set to be more accurate). You can have 70% datapoints in the training set and 30% in the test set. An 80-20 split is also acceptable.\n",
    "\n",
    "Normalize your training set using mean and variances."
   ]
  },
  {
   "cell_type": "code",
   "execution_count": 18,
   "id": "narrow-fraud",
   "metadata": {},
   "outputs": [
    {
     "name": "stdout",
     "output_type": "stream",
     "text": [
      "[[7.30e-01 6.00e-04 1.50e-02 ... 8.20e-02 1.46e-01 0.00e+00]\n",
      " [2.40e-01 2.50e-04 3.00e-02 ... 1.33e-01 1.08e-01 0.00e+00]\n",
      " [4.70e-01 1.90e-03 2.40e-02 ... 1.31e-01 7.80e-02 0.00e+00]\n",
      " ...\n",
      " [5.10e-01 7.60e-04 2.01e-02 ... 6.70e-02 1.34e-01 0.00e+00]\n",
      " [3.50e-01 2.80e-03 2.01e-02 ... 8.90e-02 1.01e-01 0.00e+00]\n",
      " [7.30e-01 5.60e-04 2.01e-02 ... 9.00e-02 9.00e-02 0.00e+00]] 7200\n",
      "      0        1      2      3      4      5  6\n",
      "0  0.73  0.00060  0.015  0.120  0.082  0.146  0\n",
      "1  0.24  0.00025  0.030  0.143  0.133  0.108  0\n",
      "2  0.47  0.00190  0.024  0.102  0.131  0.078  0\n",
      "3  0.64  0.00090  0.017  0.077  0.090  0.085  0\n",
      "4  0.23  0.00025  0.026  0.139  0.090  0.153  0\n",
      "5  0.69  0.00025  0.016  0.086  0.070  0.123  0\n",
      "6  0.85  0.00025  0.023  0.128  0.104  0.121  0\n",
      "7  0.48  0.00208  0.020  0.086  0.078  0.110  0\n",
      "8  0.67  0.00130  0.024  0.087  0.109  0.080  0\n",
      "9  0.76  0.00010  0.029  0.124  0.128  0.097  0\n",
      "[[1.87209954e-02 3.85487668e-04 9.93677818e-03 1.46873422e-02\n",
      "  1.14714828e-02 1.75680494e-02]\n",
      " [6.15484780e-03 1.60619862e-04 1.98735564e-02 1.75024161e-02\n",
      "  1.86061856e-02 1.29955434e-02]\n",
      " [1.20532436e-02 1.22071095e-03 1.58988451e-02 1.24842409e-02\n",
      "  1.83263933e-02 9.38567022e-03]\n",
      " [1.64129275e-02 5.78231502e-04 1.12616819e-02 9.42437792e-03\n",
      "  1.25906519e-02 1.02279740e-02]\n",
      " [5.89839580e-03 1.60619862e-04 1.72237488e-02 1.70128381e-02\n",
      "  1.25906519e-02 1.84103531e-02]\n",
      " [1.76951874e-02 1.60619862e-04 1.05992301e-02 1.05259286e-02\n",
      "  9.79272924e-03 1.48004800e-02]\n",
      " [2.17984193e-02 1.60619862e-04 1.52363932e-02 1.56664984e-02\n",
      "  1.45491977e-02 1.45598217e-02]\n",
      " [1.23096956e-02 1.33635725e-03 1.32490376e-02 1.05259286e-02\n",
      "  1.09118983e-02 1.32362016e-02]\n",
      " [1.71822834e-02 8.35223280e-04 1.58988451e-02 1.06483231e-02\n",
      "  1.52486784e-02 9.62632843e-03]\n",
      " [1.94903514e-02 6.42479446e-05 1.92111045e-02 1.51769203e-02\n",
      "  1.79067049e-02 1.16719232e-02]]\n"
     ]
    }
   ],
   "source": [
    "data_pd=pd.read_csv(\"data.csv\",header=None)\n",
    "data_np=np.loadtxt(\"data.csv\",delimiter=',')\n",
    "#data_np=\n",
    "#np.random.shuffle(data_np)\n",
    "print(data_np,len(data_np))\n",
    "training=data_np[:int(0.7*len(data_np)),:]\n",
    "test=data_np[int(0.7*len(data_np)):,:]\n",
    "\n",
    "trainingx=training[:,:6]\n",
    "trainingy=training[:,6:]\n",
    "trainingxNormalized=sklearn.preprocessing.normalize(trainingx,axis=0)\n",
    "\n",
    "testx=test[:,:6]\n",
    "testy=test[:,6:]\n",
    "\n",
    "\n",
    "print(data_pd.head(10))\n",
    "print(trainingxNormalized[:10,:])\n"
   ]
  },
  {
   "cell_type": "code",
   "execution_count": 68,
   "id": "mature-spencer",
   "metadata": {},
   "outputs": [
    {
     "name": "stdout",
     "output_type": "stream",
     "text": [
      "[[ 0.69134192 -0.10152726 -0.08587423  0.02826241 -0.01304419  0.05652481]\n",
      " [ 0.15870428 -0.10190771 -0.069569    0.05326376  0.04239361  0.01521822]\n",
      " [ 0.40871787 -0.10011414 -0.07609109  0.00869612  0.04021958 -0.01739225]\n",
      " ...\n",
      " [ 0.25957447 -0.1006383  -0.07765957  0.03191489  0.00425532  0.03191489]\n",
      " [ 0.36595745 -0.0987234  -0.07553191 -0.00851064  0.00638298 -0.0106383 ]\n",
      " [ 0.27021277 -0.10204255 -0.0787234   0.03617021 -0.00531915  0.05      ]]\n"
     ]
    }
   ],
   "source": [
    "def normalize(data):\n",
    "    m=len(data)\n",
    "    n=len(data[0])\n",
    "    data=(data.flatten()).reshape(n,m)\n",
    "    for i in range(6):\n",
    "        mean=np.median(data[i])\n",
    "        max=np.max(data[i])\n",
    "        min=np.min(data[i])\n",
    "        #print(mean,\" \",max,\" \",min)\n",
    "        data[i]=(data[i]-(np.ones(len(data[i])))*mean)/(max-min)\n",
    "    return (data.flatten()).reshape(m,n)\n",
    "\n",
    "normalized_trainingx=normalize(trainingx)\n",
    "print(normalized_trainingx)\n"
   ]
  },
  {
   "cell_type": "markdown",
   "id": "green-bones",
   "metadata": {},
   "source": [
    "Find the number of positive and negative samples in the training set /test set /the whole dataset. You'll use this result while evaluating your neural network model later."
   ]
  },
  {
   "cell_type": "code",
   "execution_count": 12,
   "id": "purple-swimming",
   "metadata": {},
   "outputs": [
    {
     "name": "stdout",
     "output_type": "stream",
     "text": [
      "5040\n",
      "2160\n",
      "386\n",
      "148\n",
      "534\n"
     ]
    }
   ],
   "source": [
    "cnt_trn_1=0\n",
    "cnt_tst_1=0\n",
    "cnt_data_1=0\n",
    "print(len(trainingy))\n",
    "print(len(testx))\n",
    "for i in trainingy:\n",
    "    if int(i)==1:\n",
    "        cnt_trn_1+=1\n",
    "        \n",
    "print(cnt_trn_1)\n",
    "\n",
    "for i in testy:\n",
    "    if int(i)==1:\n",
    "        cnt_tst_1+=1\n",
    "print(cnt_tst_1)\n",
    "\n",
    "cnt_data_1=cnt_trn_1+cnt_tst_1\n",
    "print(cnt_data_1)\n"
   ]
  },
  {
   "cell_type": "markdown",
   "id": "cooperative-stewart",
   "metadata": {},
   "source": [
    "#### Define the architecture of the neural network\n",
    "\n",
    "Initialise a sequential neural network model using keras.models.Sequential(), and add dense layers (dense layer means fully-connected layer) to it using keras.layers.Dense() (you easily how to do this from the internet).\n",
    "\n",
    "Use ReLU activation function in every layer, except the last one, where you'll use the sigmoid activation function, since it's a binary classification task.\n",
    "\n",
    "The choice of the number of layers and the number of units in a layer is totally up to you."
   ]
  },
  {
   "cell_type": "code",
   "execution_count": 54,
   "id": "fiscal-terror",
   "metadata": {},
   "outputs": [
    {
     "name": "stdout",
     "output_type": "stream",
     "text": [
      "Model: \"sequential_6\"\n",
      "_________________________________________________________________\n",
      "Layer (type)                 Output Shape              Param #   \n",
      "=================================================================\n",
      "dense_18 (Dense)             (None, 10)                70        \n",
      "_________________________________________________________________\n",
      "dense_19 (Dense)             (None, 10)                110       \n",
      "_________________________________________________________________\n",
      "dense_20 (Dense)             (None, 1)                 11        \n",
      "=================================================================\n",
      "Total params: 191\n",
      "Trainable params: 191\n",
      "Non-trainable params: 0\n",
      "_________________________________________________________________\n"
     ]
    }
   ],
   "source": [
    "model=keras.models.Sequential()\n",
    "model.add(keras.layers.Dense(10,activation=\"relu\",input_dim=6))\n",
    "model.add(keras.layers.Dense(10,activation=\"relu\"))\n",
    "model.add(keras.layers.Dense(1,activation=\"sigmoid\"))\n",
    "\n",
    "model.summary()\n",
    "\n",
    "\n",
    "#model.fit(normalized_trainingx,)\n",
    "\n"
   ]
  },
  {
   "cell_type": "markdown",
   "id": "atmospheric-drunk",
   "metadata": {},
   "source": [
    "#### Training the neural network\n",
    "\n",
    "1. Compile your nn model using model.compile() . Use the appropriate loss function (binary cross-entropy), and use Adam optimizer. Pass on 'accuracy' as a metric, so that you get to see the accuracy on your training set after every iteration of Adam optimization (a form of mini-batch gradient descent).\n",
    "\n",
    "Try to look-up and learn a bit about what stochastic gradient descent and mini-batch gradient descent essentilly are. You'll use mini-batches while training your model.\n",
    "\n",
    "2. Train your model using model.fit() (this will take a while, perhaps a few minutes). Use appropriate number of ephocs and batch size (you have to decide which values work the best). Don't forget that you have to train your model on the training set, and not the test set"
   ]
  },
  {
   "cell_type": "code",
   "execution_count": 77,
   "id": "infrared-hormone",
   "metadata": {},
   "outputs": [
    {
     "name": "stdout",
     "output_type": "stream",
     "text": [
      "Epoch 1/20\n",
      "504/504 [==============================] - 1s 508us/step - loss: 0.0858 - accuracy: 0.9702 - recall_1: 0.7499 - precision: 0.8272\n",
      "Epoch 2/20\n",
      "504/504 [==============================] - 0s 537us/step - loss: 0.0911 - accuracy: 0.9672 - recall_1: 0.7463 - precision: 0.8012\n",
      "Epoch 3/20\n",
      "504/504 [==============================] - 0s 539us/step - loss: 0.0918 - accuracy: 0.9672 - recall_1: 0.7316 - precision: 0.7903\n",
      "Epoch 4/20\n",
      "504/504 [==============================] - 0s 573us/step - loss: 0.0954 - accuracy: 0.9644 - recall_1: 0.6547 - precision: 0.7821\n",
      "Epoch 5/20\n",
      "504/504 [==============================] - 0s 535us/step - loss: 0.0922 - accuracy: 0.9615 - recall_1: 0.7075 - precision: 0.7664\n",
      "Epoch 6/20\n",
      "504/504 [==============================] - 0s 561us/step - loss: 0.0998 - accuracy: 0.9607 - recall_1: 0.7051 - precision: 0.7900\n",
      "Epoch 7/20\n",
      "504/504 [==============================] - 0s 601us/step - loss: 0.0845 - accuracy: 0.9699 - recall_1: 0.7457 - precision: 0.8265\n",
      "Epoch 8/20\n",
      "504/504 [==============================] - 0s 494us/step - loss: 0.0901 - accuracy: 0.9619 - recall_1: 0.7099 - precision: 0.7679\n",
      "Epoch 9/20\n",
      "504/504 [==============================] - 0s 496us/step - loss: 0.0892 - accuracy: 0.9693 - recall_1: 0.7364 - precision: 0.8157\n",
      "Epoch 10/20\n",
      "504/504 [==============================] - 0s 567us/step - loss: 0.0899 - accuracy: 0.9712 - recall_1: 0.7523 - precision: 0.8404\n",
      "Epoch 11/20\n",
      "504/504 [==============================] - 0s 504us/step - loss: 0.0881 - accuracy: 0.9667 - recall_1: 0.7339 - precision: 0.7787\n",
      "Epoch 12/20\n",
      "504/504 [==============================] - 0s 531us/step - loss: 0.0910 - accuracy: 0.9669 - recall_1: 0.7283 - precision: 0.8046\n",
      "Epoch 13/20\n",
      "504/504 [==============================] - 0s 557us/step - loss: 0.0982 - accuracy: 0.9637 - recall_1: 0.7151 - precision: 0.7591\n",
      "Epoch 14/20\n",
      "504/504 [==============================] - 0s 504us/step - loss: 0.0952 - accuracy: 0.9650 - recall_1: 0.7089 - precision: 0.8052\n",
      "Epoch 15/20\n",
      "504/504 [==============================] - 0s 508us/step - loss: 0.0877 - accuracy: 0.9661 - recall_1: 0.7189 - precision: 0.7978\n",
      "Epoch 16/20\n",
      "504/504 [==============================] - 0s 565us/step - loss: 0.0904 - accuracy: 0.9696 - recall_1: 0.7507 - precision: 0.8106\n",
      "Epoch 17/20\n",
      "504/504 [==============================] - 0s 518us/step - loss: 0.0878 - accuracy: 0.9695 - recall_1: 0.6807 - precision: 0.7975\n",
      "Epoch 18/20\n",
      "504/504 [==============================] - 0s 581us/step - loss: 0.0908 - accuracy: 0.9663 - recall_1: 0.7280 - precision: 0.8021\n",
      "Epoch 19/20\n",
      "504/504 [==============================] - 0s 502us/step - loss: 0.0954 - accuracy: 0.9668 - recall_1: 0.7294 - precision: 0.8276\n",
      "Epoch 20/20\n",
      "504/504 [==============================] - 0s 533us/step - loss: 0.0944 - accuracy: 0.9641 - recall_1: 0.7238 - precision: 0.7740\n"
     ]
    },
    {
     "data": {
      "text/plain": [
       "<keras.callbacks.History at 0x1e9e6a615b0>"
      ]
     },
     "execution_count": 77,
     "metadata": {},
     "output_type": "execute_result"
    }
   ],
   "source": [
    "model.compile(optimizer='adam',loss='binary_crossentropy',metrics=['accuracy'])\n",
    "model.fit(normalized_trainingx,trainingy,batch_size=10,epochs=20)\n"
   ]
  },
  {
   "cell_type": "markdown",
   "id": "imposed-recording",
   "metadata": {},
   "source": [
    "#### Evaluation of the model on the test set\n",
    "\n",
    "Find the accuracy of your trained model on the test set. Don't forget that you had normalized your training set before training the same model."
   ]
  },
  {
   "cell_type": "code",
   "execution_count": 95,
   "id": "stuck-samoa",
   "metadata": {},
   "outputs": [
    {
     "name": "stdout",
     "output_type": "stream",
     "text": [
      "68/68 [==============================] - 0s 505us/step - loss: 0.1592 - accuracy: 0.9324 - recall_7: 0.7195 - precision_6: 0.5413 - false_positives_5: 100.0000\n"
     ]
    }
   ],
   "source": [
    "normalized_testx=normalize(testx)\n",
    "model.evaluate(normalized_testx,testy)\n",
    "model.evaluate?"
   ]
  },
  {
   "cell_type": "markdown",
   "id": "smooth-mozambique",
   "metadata": {},
   "source": [
    "Is accuracy really the best metric to evaluate our model on the test set here? What was the proportion of positive samples to negative samples in the dataset? What would have been the accuracy of a model that would have output '0' for any input? By the way, this dataset is for detecting the presence of thyroid in a patient.\n",
    "\n",
    "Now, find out about the metrics - recall, precision and F1-score. Use these metrics to evaluate your model on the test set"
   ]
  },
  {
   "cell_type": "code",
   "execution_count": 128,
   "id": "thirty-increase",
   "metadata": {},
   "outputs": [
    {
     "name": "stdout",
     "output_type": "stream",
     "text": [
      "68/68 [==============================] - 1s 498us/step - loss: 0.1551 - accuracy: 0.9394 - recall_17: 0.6687 - precision_16: 0.6285 - false_positives_15: 41.1014   \n"
     ]
    },
    {
     "data": {
      "text/plain": [
       "[0.1591985672712326,\n",
       " 0.9324073791503906,\n",
       " 0.7195122241973877,\n",
       " 0.5412843823432922,\n",
       " 100.0]"
      ]
     },
     "execution_count": 128,
     "metadata": {},
     "output_type": "execute_result"
    }
   ],
   "source": [
    "model.compile(optimizer='adam',loss='binary_crossentropy',metrics=['accuracy',keras.metrics.Recall(),keras.metrics.Precision(),keras.metrics.FalsePositives()])\n",
    "model.evaluate(normalized_testx,testy)\n"
   ]
  },
  {
   "cell_type": "code",
   "execution_count": 129,
   "id": "collected-sucking",
   "metadata": {},
   "outputs": [
    {
     "name": "stdout",
     "output_type": "stream",
     "text": [
      "[[0.00050613 0.        ]\n",
      " [0.00015977 0.        ]\n",
      " [0.0082874  0.        ]\n",
      " ...\n",
      " [0.00060287 0.        ]\n",
      " [0.00855672 0.        ]\n",
      " [0.00009798 0.        ]]\n",
      "[0.00050613 0.00015977 0.0082874  ... 0.00060287 0.00855672 0.00009798]\n",
      "[0.85509038 0.847516   0.95886767 0.95057893 0.76647019 0.94094884\n",
      " 0.96170056 0.95542407 0.65521735 0.93132657 0.97564077 0.76768506\n",
      " 0.91072679 0.9841342  0.71556145 0.62247819 0.73328924 0.96443021\n",
      " 0.54895884 0.93804693 0.67716897 0.92234385 0.90244031 0.92735988\n",
      " 0.9351753  0.95746601 0.69910079 0.87635863 0.96923983 0.95138025\n",
      " 0.89096922 0.76457375 0.83558369 0.88075709 0.88534045 0.96802258\n",
      " 0.7479496  0.84255123 0.88148731 0.52549726 0.81408596 0.68422621\n",
      " 0.8768689  0.50735182 0.9669559  0.86440361 0.87845129 0.94907951\n",
      " 0.93724442 0.93759644 0.611525   0.98170388 0.95445585 0.89342403\n",
      " 0.84930611 0.92421055 0.80601799 0.83103764 0.84666359 0.62754029\n",
      " 0.52511013 0.90317506 0.91505218 0.97853065 0.97909904 0.93092012\n",
      " 0.8599385  0.69546175 0.93714678 0.90097988 0.84137315 0.98115212\n",
      " 0.92043608 0.99841297 0.68106747 0.84222776 0.92099279 0.97002614\n",
      " 0.82486832 0.96212739 0.95432633 0.85351419 0.76522392 0.57076502\n",
      " 0.51737869 0.65693778 0.8322925  0.6064142  0.96318531 0.77815074\n",
      " 0.86801559 0.90557224 0.75993168 0.95345539 0.93897581 0.9722234\n",
      " 0.98976612 0.7534098  0.94799507 0.7727344  0.87380469 0.75633335\n",
      " 0.90138698 0.8885529  0.80486417 0.81748104 0.88471913 0.79438496\n",
      " 0.7485323  0.61094856 0.8005445  0.97101009 0.77639127 0.9088642\n",
      " 0.91446543 0.62698507 0.76913244 0.89027596 0.768134   0.68456197\n",
      " 0.99017143 0.78744757 0.90881705 0.85087204 0.76371682 0.69871014\n",
      " 0.85052878 0.81846344 0.89887124 0.88482749 0.87128633 0.62978458\n",
      " 0.88304466 0.90240622 0.6402626  0.80765676 0.75413531 0.69286901\n",
      " 0.99509478 0.80920815 0.88247579 0.70595336 0.77275401 0.90235299\n",
      " 0.50559545 0.79295909 0.8942309  0.86732852 0.93008876 0.84706956\n",
      " 0.8825953  0.67867064 0.91389132 0.95326763 0.95001423 0.61084521\n",
      " 0.98680639 0.76655781 0.6639185  0.58595163 0.51943833 0.9842155\n",
      " 0.76531506 0.59437764 0.94661033 0.56146067 0.80292523 0.85098219\n",
      " 0.75526762 0.62246668 0.50672346 0.96351522 0.79857355 0.85330915\n",
      " 0.92144537 0.66976672 0.89426124 0.60793847 0.67873627 0.96014136\n",
      " 0.80320609 0.91391796 0.89250177 0.7466296  0.95540351 0.89391065\n",
      " 0.57188243 0.76830351 0.68312937 0.90536976 0.68847442 0.94711518\n",
      " 0.84349573 0.64332443 0.80620611 0.55553377 0.84023058 0.62443644\n",
      " 0.68513799 0.86521608 0.88586938 0.94119847 0.86683667 0.6792084\n",
      " 0.85707831 0.66550738 0.75486553 0.91340619 0.97247756 0.96530592\n",
      " 0.93923974 0.83867049 0.95452464 0.95817828 0.9444598  0.83335066\n",
      " 0.90012157 0.85038483 0.73152292 0.56029654 0.5411002  0.96284556\n",
      " 0.72377157 0.73413259 0.84815949 0.9339515  0.88588822 0.69355929\n",
      " 0.65252769 0.82033002 0.57132381 0.89367127 0.70884222 0.94402087\n",
      " 0.85463166 0.63040483 0.89687181 0.66489494 0.90401721 0.82865834\n",
      " 0.78213346 0.97273225 0.78800911 0.59972703 0.71429938 0.81841123\n",
      " 0.98196423 0.8666122  0.69155341 0.95039439 0.97092992 0.95795012\n",
      " 0.58465844 0.95107484 0.69444567 0.80821645 0.74239016 0.96622121\n",
      " 0.57122988 0.91326207 0.67674553 0.66961849 0.73992872 0.89699876\n",
      " 0.9675777  0.52886856 0.8542335  0.9500587  0.95426756 0.56650603\n",
      " 0.78773254 0.84583503 0.95505083 0.95050162 0.93484831 0.55610156\n",
      " 0.97188491 0.83267552 0.71606934 0.84142911 0.73802811 0.6820699\n",
      " 0.96119386 0.9781608  0.96295083 0.97636688 0.65396047 0.76876491\n",
      " 0.81925815 0.94671923 0.82986939 0.97688609 0.79025221 0.70987916\n",
      " 0.80327344 0.72037888 0.6134429  0.68118525 0.74146581 0.90312612\n",
      " 0.60916698 0.81494939 0.82518327 0.60063875]\n"
     ]
    }
   ],
   "source": [
    "prediction=np.hstack((model.predict(normalized_trainingx),model.predict_classes(normalized_trainingx)))\n",
    "np.set_printoptions(suppress=True)\n",
    "print(prediction)\n",
    "\n",
    "prediction_0=np.array([])\n",
    "prediction_1=np.array([])\n",
    "for i in range(len(prediction)):\n",
    "    if prediction[i][1]==0:\n",
    "        prediction_0=np.append(prediction_0,prediction[i:i+1,:1])\n",
    "    else:\n",
    "        prediction_1=np.append(prediction_1,prediction[i:i+1,:1])\n",
    "        \n",
    "print(prediction_0)\n",
    "print(prediction_1)"
   ]
  },
  {
   "cell_type": "markdown",
   "id": "celtic-chapter",
   "metadata": {},
   "source": [
    "Now, tune the hyperparameters of your model (like number of layers, number of units in different layers, etc.) to try and do better and better on the test set."
   ]
  },
  {
   "cell_type": "markdown",
   "id": "extended-wound",
   "metadata": {},
   "source": [
    "\n",
    "#### Plotting histograms based on prediction values\n",
    "\n",
    "Now, you will plot 2 historgrams of prediction values (0 to 1, or 0% to 100%) on the training data, output by your nn model - one histogram for positive samples and another for negative samples. Plot both the histograms in the same figure. \n",
    "\n",
    "Here's one such plot I made with my nn model:\n",
    "<img src=\"files/index.jpeg\">\n",
    "\n",
    "The blue histogram is for negative samples and the red one is for positive samples (add a legend to the plots, unlike me).\n",
    "\n",
    "Use log-scale on the y-axis (number of occurances in the given predicted value range), like I have done.\n",
    "\n",
    "Now, what can you infer from the histograms you got? How should an ideal pair of histograms look like?"
   ]
  },
  {
   "cell_type": "code",
   "execution_count": 130,
   "id": "dated-viewer",
   "metadata": {},
   "outputs": [
    {
     "data": {
      "image/png": "[encoded data removed]",
      "text/plain": [
       "<Figure size 432x288 with 1 Axes>"
      ]
     },
     "metadata": {
      "needs_background": "light"
     },
     "output_type": "display_data"
    }
   ],
   "source": [
    "#plotting the histogram\n",
    "plt.hist([prediction_0,prediction_1],bins=np.arange(0,1.05,0.01),color=['b','r'],label=['Negative','Positive'],rwidth=1)\n",
    "plt.xlabel('Anomaly Score')\n",
    "plt.ylabel('Occurances')\n",
    "plt.yscale('log') # setting yscale\n",
    "plt.title('Prdiction Data')\n",
    "plt.legend()\n",
    "plt.show()"
   ]
  },
  {
   "cell_type": "code",
   "execution_count": null,
   "id": "dominican-darkness",
   "metadata": {},
   "outputs": [],
   "source": []
  },
  {
   "cell_type": "code",
   "execution_count": null,
   "id": "refined-beijing",
   "metadata": {},
   "outputs": [],
   "source": []
  },
  {
   "cell_type": "code",
   "execution_count": null,
   "id": "directed-asian",
   "metadata": {},
   "outputs": [],
   "source": [
    "\n"
   ]
  },
  {
   "cell_type": "code",
   "execution_count": null,
   "id": "optional-heading",
   "metadata": {},
   "outputs": [],
   "source": []
  },
  {
   "cell_type": "code",
   "execution_count": null,
   "id": "economic-danger",
   "metadata": {},
   "outputs": [],
   "source": []
  },
  {
   "cell_type": "code",
   "execution_count": null,
   "id": "moved-metabolism",
   "metadata": {},
   "outputs": [],
   "source": []
  }
 ],
 "metadata": {
  "kernelspec": {
   "display_name": "Python 3",
   "language": "python",
   "name": "python3"
  },
  "language_info": {
   "codemirror_mode": {
    "name": "ipython",
    "version": 3
   },
   "file_extension": ".py",
   "mimetype": "text/x-python",
   "name": "python",
   "nbconvert_exporter": "python",
   "pygments_lexer": "ipython3",
   "version": "3.9.0"
  }
 },
 "nbformat": 4,
 "nbformat_minor": 5
}
