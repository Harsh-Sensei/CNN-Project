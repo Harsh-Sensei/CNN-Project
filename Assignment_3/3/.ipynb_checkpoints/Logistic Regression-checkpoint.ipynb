{
 "cells": [
  {
   "cell_type": "markdown",
   "metadata": {},
   "source": [
    "# Assignment 3 : Logistic Regression"
   ]
  },
  {
   "cell_type": "markdown",
   "metadata": {},
   "source": [
    "In this assignment you have to use the logistic regression technique you learned in the week 3 of the prescribed course. You have to use numpy to complete the assignment"
   ]
  },
  {
   "cell_type": "markdown",
   "metadata": {},
   "source": [
    "#### Import other the libraries here"
   ]
  },
  {
   "cell_type": "code",
   "execution_count": 100,
   "metadata": {},
   "outputs": [],
   "source": [
    "import numpy as np\n",
    "import matplotlib.pyplot as plt\n",
    "from sklearn import metrics\n",
    "from sklearn.linear_model import LogisticRegression\n",
    "import random\n",
    "import cv2 as cv\n",
    "from math import *"
   ]
  },
  {
   "cell_type": "markdown",
   "metadata": {},
   "source": [
    "##### Define these functions here:\n",
    "- Sigmoid function: `def sigmoid(x):`"
   ]
  },
  {
   "cell_type": "code",
   "execution_count": 3,
   "metadata": {},
   "outputs": [
    {
     "name": "stdout",
     "output_type": "stream",
     "text": [
      "0.5\n"
     ]
    }
   ],
   "source": [
    "def sigmoid(x):\n",
    "    temp=1/(1+exp(-x))\n",
    "    return temp\n",
    "\n",
    "print(sigmoid(0))"
   ]
  },
  {
   "cell_type": "markdown",
   "metadata": {},
   "source": [
    "- cost function: `def cost_fn(x,y,theta):` (refer to the course)"
   ]
  },
  {
   "cell_type": "code",
   "execution_count": 5,
   "metadata": {},
   "outputs": [],
   "source": [
    "\n",
    "def tx(theta,x):\n",
    "    temp=0\n",
    "    for i in range(0,len(x)):\n",
    "        temp+=theta[i]*x[i]\n",
    "    return temp\n",
    "\n",
    "def cost_fn(x,y,theta):\n",
    "    sum=0\n",
    "    m=len(y)\n",
    "    for i in range(0,m):\n",
    "        sum+=-(1/m)*(y[i]*log(sigmoid(tx(theta,x[i])))+(1-y[i])*log(1-sigmoid(tx(theta,x[i]))))\n",
    "    return sum\n",
    "        \n",
    "\n",
    "        "
   ]
  },
  {
   "cell_type": "markdown",
   "metadata": {},
   "source": [
    "- Gradient descent: `def gradient_descent(X, y, theta, learning_rate=1, iters):`\n",
    "\n",
    "$\\frac{\\partial J}{\\partial \\theta} = \\frac{1}{m} \\Sigma_{i=1}^m ((h_\\theta(x^{(i)})-y^{(i)})x_j^{(i)})$\n",
    "\n",
    "$\\theta_{j+1}^{(i)} = \\theta_j^{(i)} - \\frac{1}{m} \\Sigma_{i=1}^m ((h_\\theta(x^{(i)})-y^{(i)})x_j^{(i)})$\n",
    "\n",
    "Since these are for each element of your matrix. The final expression will be: (if using matrices)\n",
    "$\\theta_{j+1} = \\theta_j - \\frac{1}{m} \\Sigma_{i=1}^m ((h_\\theta(x)-y)x_j)$\n",
    "\n",
    "You have to initialise $\\theta$ and update it at each iteration according to this gradient descent equation"
   ]
  },
  {
   "cell_type": "code",
   "execution_count": 101,
   "metadata": {},
   "outputs": [],
   "source": [
    "def gradient_descent(x,y,theta,iters,learning_rate=1):\n",
    "    a=learning_rate\n",
    "    m=len(y)\n",
    "    cost=np.array([])\n",
    "    for i in range(iters):\n",
    "        #print('loopi')\n",
    "        #finding the second term in the updatation equation\n",
    "        sum=np.zeros(len(theta))\n",
    "        for j in range(0,m):\n",
    "            sum+=(1/m)*(sigmoid(tx(theta,x[j]))-y[j])*x[j]\n",
    "        #print('loopj')\n",
    "        \n",
    "        theta=theta-a*sum\n",
    "        cost=np.append(cost,cost_fn(x,y,theta))\n",
    "        \n",
    "    return theta,cost"
   ]
  },
  {
   "cell_type": "markdown",
   "metadata": {},
   "source": [
    "- Predict: `def predict(x, y, theta, learning_rate=1, iters)`:"
   ]
  },
  {
   "cell_type": "code",
   "execution_count": 74,
   "metadata": {},
   "outputs": [],
   "source": [
    "def multi_class(y):\n",
    "    multi_data=np.array([])\n",
    "    for i in range(10):\n",
    "        temp=np.array([])\n",
    "        for j in range(5000):\n",
    "            if(y[j]==i):\n",
    "                temp=np.append(temp,1)\n",
    "            else:\n",
    "                temp=np.append(temp,0)\n",
    "        \n",
    "        multi_data=np.append(multi_data,temp)\n",
    "    return multi_data.reshape(10,5000)\n",
    "    \n",
    "\n",
    "def predict(x, y, theta, iters, learning_rate=1):\n",
    "    y=multi_class(y)\n",
    "    mod_theta=np.array([])\n",
    "    cost=np.array([])\n",
    "    for i in range(10):\n",
    "        temp_t,temp_c=gradient_descent(x, y[i], theta, iters, learning_rate)\n",
    "        mod_theta=np.append(mod_theta,temp_t)\n",
    "        cost=np.append(cost,temp_c)\n",
    "    mod_theta=mod_theta.reshape(10,401)\n",
    "    cost=cost.reshape(10,iters)\n",
    "    \n",
    "    return mod_theta,cost\n",
    "\n",
    "def prob(x, y, theta, iters, learning_rate=1):\n",
    "    mod_theta,cost=predict(x, y, theta, iters, learning_rate)\n",
    "    pr_data=np.array([])\n",
    "    for i in range(len(y)):\n",
    "        for j in range(10):\n",
    "            temp=sigmoid(tx(mod_theta[j],x[i]))\n",
    "            pr_data=np.append(pr_data,temp)\n",
    "    pr_data_reshape=pr_data.reshape(5000,10)\n",
    "    prediction=np.array([])\n",
    "    for i in range(5000):\n",
    "        prediction=np.append(prediction,np.argmax(pr_data_reshape[i]))\n",
    "    return prediction,pr_data_reshape,cost,mod_theta\n",
    "\n",
    "#data=multi_class(y)\n",
    "#print(data[0])"
   ]
  },
  {
   "cell_type": "markdown",
   "metadata": {},
   "source": [
    "### Load MNSIT data here\n",
    "\n",
    "There are two file, X.csv and y.csv.\n",
    "You have to load these csv files (read about csv in python) and store them in python variables. \n",
    "There are 5000 images, each line in X.csv is an image (pixels of image of size 20x20 are concatenated to size 400x1) and each line is y.csv is the label of that image (label in n-th line in y.csv corresponds to image in n-th line in X.csv)"
   ]
  },
  {
   "cell_type": "code",
   "execution_count": 94,
   "metadata": {},
   "outputs": [
    {
     "name": "stdout",
     "output_type": "stream",
     "text": [
      "[[0. 0. 0. ... 0. 0. 0.]\n",
      " [0. 0. 0. ... 0. 0. 0.]\n",
      " [0. 0. 0. ... 0. 0. 0.]\n",
      " ...\n",
      " [0. 0. 0. ... 0. 0. 0.]\n",
      " [0. 0. 0. ... 0. 0. 0.]\n",
      " [0. 0. 0. ... 0. 0. 0.]] \n",
      " AND\n",
      " [0. 0. 0. ... 9. 9. 9.]\n"
     ]
    }
   ],
   "source": [
    "#initializations\n",
    "x=np.loadtxt('X.csv',delimiter=',')\n",
    "y=np.loadtxt('y.csv')\n",
    "theta=np.zeros(len(x[0])+1)\n",
    "iters=10\n",
    "print(x,'\\n',\"AND\\n\",y)"
   ]
  },
  {
   "cell_type": "markdown",
   "metadata": {},
   "source": [
    "Now your task is to:\n",
    "1. Reshape these to 20x20 and show any 5 of them (random) here. \n",
    "2. For regression, you have to use the 400x1 data only. (X will be a 5000x400 matrix and y will be a 1x400 matrix)\n",
    "3. Get you prediction and compare it with the labels in y\n",
    "4. Calculate the error %"
   ]
  },
  {
   "cell_type": "code",
   "execution_count": 71,
   "metadata": {},
   "outputs": [],
   "source": [
    "#1 Displaying images\n",
    "\n",
    "x_reshaped=(x.flatten()).reshape(5000,20,20)\n",
    "\n",
    "a=x_reshaped[random.randint(0,4995)]\n",
    "for i in range(9):\n",
    "    a=np.hstack((a,x_reshaped[random.randint(0,5000)]))#stacking 10 images so that window size is sufficient to drag\n",
    "cv.imshow(\"Random\",a)\n",
    "k=cv.waitKey(0)\n",
    "cv.destroyAllWindows()\n"
   ]
  },
  {
   "cell_type": "code",
   "execution_count": 102,
   "metadata": {},
   "outputs": [
    {
     "name": "stdout",
     "output_type": "stream",
     "text": [
      "end\n"
     ]
    }
   ],
   "source": [
    "#2 Prediction\n",
    "\n",
    "e=np.ones((5000,1))\n",
    "x_mod=np.hstack((e,x))\n",
    "\n",
    "#expect:-predicted output\n",
    "#pr_data:-probabilities wrt each h(x)\n",
    "#cost:-cost after each iteration for every y ,i.e, cost[y][iteration]\n",
    "prediction,pr_data,cost,mod_theta=prob(x_mod,y,theta,iters,1)\n",
    "print('end')\n"
   ]
  },
  {
   "cell_type": "code",
   "execution_count": 103,
   "metadata": {},
   "outputs": [
    {
     "name": "stdout",
     "output_type": "stream",
     "text": [
      "[0. 0. 8. ... 9. 9. 0.]\n"
     ]
    },
    {
     "data": {
      "image/png": "[encoded data removed]",
      "text/plain": [
       "<Figure size 432x288 with 1 Axes>"
      ]
     },
     "metadata": {
      "needs_background": "light"
     },
     "output_type": "display_data"
    }
   ],
   "source": [
    "#Analysis\n",
    "print(expect)\n",
    "for i in range(iters):\n",
    "    plt.plot(range(0,10,1),cost[i],color=(i*0.1,i*0.1,0))#darker color corresponds to lower numbers i ,i.e,cost[i]\n",
    "    \n",
    "plt.ylabel('Cost')\n",
    "plt.xlabel('Iteration')\n",
    "plt.show()"
   ]
  },
  {
   "cell_type": "code",
   "execution_count": 104,
   "metadata": {},
   "outputs": [
    {
     "name": "stdout",
     "output_type": "stream",
     "text": [
      "4200\n"
     ]
    }
   ],
   "source": [
    "#3 Comparison of labels in y\n",
    "counter=0\n",
    "for i in range(5000):\n",
    "    if(prediction[i]==y[i]):\n",
    "        counter+=1\n",
    "print(counter)"
   ]
  },
  {
   "cell_type": "code",
   "execution_count": 105,
   "metadata": {},
   "outputs": [
    {
     "name": "stdout",
     "output_type": "stream",
     "text": [
      "[ 8.28709531 11.76497245 91.69788505 ... 65.78423401 76.35598146\n",
      " 82.90295562]\n"
     ]
    }
   ],
   "source": [
    "#4 %error\n",
    "error=np.array([])\n",
    "for i in range(5000):\n",
    "    error=np.append(error,1-np.max(pr_data[i]))\n",
    "error=error*100\n",
    "print(error)"
   ]
  },
  {
   "cell_type": "markdown",
   "metadata": {},
   "source": [
    "Generate the [confusion matrix](https://en.wikipedia.org/wiki/Confusion_matrix) here and show it here: \n"
   ]
  },
  {
   "cell_type": "code",
   "execution_count": 106,
   "metadata": {},
   "outputs": [
    {
     "name": "stdout",
     "output_type": "stream",
     "text": [
      "[[476   1   1   2   1   0  13   0   6   0]\n",
      " [  0 481   1   1   0   2   2   0  13   0]\n",
      " [ 10  19 397  15   9   1  18   6  22   3]\n",
      " [  3   7  19 411   0  13   4   7  27   9]\n",
      " [  2   7   5   1 427   0  14   3   8  33]\n",
      " [ 19  15   7  72  17 305  16   1  34  14]\n",
      " [  9  13  10   0   4   3 457   1   3   0]\n",
      " [ 10  21   6   1  13   0   0 434   1  14]\n",
      " [  2  11  10  27   3   7   7   2 419  12]\n",
      " [ 10   7   5   7  34   5   2  25  12 393]]\n"
     ]
    }
   ],
   "source": [
    "#confusion matrix\n",
    "print(sklearn.metrics.confusion_matrix(y,prediction,labels=[0,1,2,3,4,5,6,7,8,9]))"
   ]
  },
  {
   "cell_type": "markdown",
   "metadata": {},
   "source": [
    "#### Bonus task: \n",
    "Use [scikit-learn](https://scikit-learn.org/stable/modules/generated/sklearn.linear_model.LogisticRegression.html) to perform logistic regression (just a single function which will handle all your task :P)"
   ]
  },
  {
   "cell_type": "code",
   "execution_count": 107,
   "metadata": {},
   "outputs": [
    {
     "name": "stdout",
     "output_type": "stream",
     "text": [
      "[[499   0   0   0   0   0   0   0   1   0]\n",
      " [  0 491   2   1   1   2   0   0   1   2]\n",
      " [  1   2 473   1   4   1   1   3  11   3]\n",
      " [  0   2   5 471   0  12   0   4   3   3]\n",
      " [  0   2   3   0 482   0   1   0   1  11]\n",
      " [  1   1   2  10   3 472   5   0   4   2]\n",
      " [  2   2   0   0   0   4 490   0   2   0]\n",
      " [  0   2   2   1   3   0   0 481   0  11]\n",
      " [  0   4   4   3   2   1   3   1 479   3]\n",
      " [  2   1   4   3   2   2   0  10   2 474]]\n"
     ]
    },
    {
     "name": "stderr",
     "output_type": "stream",
     "text": [
      "c:\\users\\htg_sensei\\appdata\\local\\programs\\python\\python39\\lib\\site-packages\\sklearn\\linear_model\\_logistic.py:763: ConvergenceWarning: lbfgs failed to converge (status=1):\n",
      "STOP: TOTAL NO. of ITERATIONS REACHED LIMIT.\n",
      "\n",
      "Increase the number of iterations (max_iter) or scale the data as shown in:\n",
      "    https://scikit-learn.org/stable/modules/preprocessing.html\n",
      "Please also refer to the documentation for alternative solver options:\n",
      "    https://scikit-learn.org/stable/modules/linear_model.html#logistic-regression\n",
      "  n_iter_i = _check_optimize_result(\n"
     ]
    }
   ],
   "source": [
    "log_reg=LogisticRegression()\n",
    "log_reg.fit(x,y)\n",
    "sk_prediction=log_reg.predict(x)\n",
    "\n",
    "print(metrics.confusion_matrix(y,sk_prediction,labels=range(0,10)))\n"
   ]
  },
  {
   "cell_type": "code",
   "execution_count": null,
   "metadata": {},
   "outputs": [],
   "source": []
  }
 ],
 "metadata": {
  "kernelspec": {
   "display_name": "Python 3",
   "language": "python",
   "name": "python3"
  },
  "language_info": {
   "codemirror_mode": {
    "name": "ipython",
    "version": 3
   },
   "file_extension": ".py",
   "mimetype": "text/x-python",
   "name": "python",
   "nbconvert_exporter": "python",
   "pygments_lexer": "ipython3",
   "version": "3.9.0"
  }
 },
 "nbformat": 4,
 "nbformat_minor": 4
}
